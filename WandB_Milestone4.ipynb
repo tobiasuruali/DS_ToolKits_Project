{
 "cells": [
  {
   "cell_type": "code",
   "execution_count": 19,
   "metadata": {},
   "outputs": [
    {
     "name": "stderr",
     "output_type": "stream",
     "text": [
      "2021-12-06 23:02:11.818976: W tensorflow/stream_executor/platform/default/dso_loader.cc:64] Could not load dynamic library 'libcudart.so.11.0'; dlerror: libcudart.so.11.0: cannot open shared object file: No such file or directory\n",
      "2021-12-06 23:02:11.819114: I tensorflow/stream_executor/cuda/cudart_stub.cc:29] Ignore above cudart dlerror if you do not have a GPU set up on your machine.\n"
     ]
    },
    {
     "data": {
      "text/html": [
       "\n",
       "                    Syncing run <strong><a href=\"https://wandb.ai/unilu-dstoolkits/ipynb_test_runs/runs/2qxv7lnm\" target=\"_blank\">dashing-energy-3</a></strong> to <a href=\"https://wandb.ai/unilu-dstoolkits/ipynb_test_runs\" target=\"_blank\">Weights & Biases</a> (<a href=\"https://docs.wandb.com/integrations/jupyter.html\" target=\"_blank\">docs</a>).<br/>\n",
       "\n",
       "                "
      ],
      "text/plain": [
       "<IPython.core.display.HTML object>"
      ]
     },
     "metadata": {},
     "output_type": "display_data"
    },
    {
     "name": "stdout",
     "output_type": "stream",
     "text": [
      "x_train shape: (60000, 28, 28, 1)\n",
      "60000 train samples\n",
      "10000 test samples\n",
      "Model: \"sequential_5\"\n",
      "_________________________________________________________________\n",
      " Layer (type)                Output Shape              Param #   \n",
      "=================================================================\n",
      " conv2d_10 (Conv2D)          (None, 26, 26, 32)        320       \n",
      "                                                                 \n",
      " max_pooling2d_10 (MaxPoolin  (None, 13, 13, 32)       0         \n",
      " g2D)                                                            \n",
      "                                                                 \n",
      " conv2d_11 (Conv2D)          (None, 11, 11, 64)        18496     \n",
      "                                                                 \n",
      " max_pooling2d_11 (MaxPoolin  (None, 5, 5, 64)         0         \n",
      " g2D)                                                            \n",
      "                                                                 \n",
      " flatten_5 (Flatten)         (None, 1600)              0         \n",
      "                                                                 \n",
      " dropout_5 (Dropout)         (None, 1600)              0         \n",
      "                                                                 \n",
      " dense_5 (Dense)             (None, 10)                16010     \n",
      "                                                                 \n",
      "=================================================================\n",
      "Total params: 34,826\n",
      "Trainable params: 34,826\n",
      "Non-trainable params: 0\n",
      "_________________________________________________________________\n",
      "Epoch 1/15\n",
      "422/422 [==============================] - 59s 133ms/step - loss: 0.3568 - accuracy: 0.8922 - val_loss: 0.0841 - val_accuracy: 0.9787\n",
      "Epoch 2/15\n",
      "422/422 [==============================] - 49s 115ms/step - loss: 0.1115 - accuracy: 0.9654 - val_loss: 0.0555 - val_accuracy: 0.9858\n",
      "Epoch 3/15\n",
      "422/422 [==============================] - 41s 98ms/step - loss: 0.0849 - accuracy: 0.9734 - val_loss: 0.0504 - val_accuracy: 0.9858\n",
      "Epoch 4/15\n",
      "422/422 [==============================] - 41s 96ms/step - loss: 0.0710 - accuracy: 0.9780 - val_loss: 0.0446 - val_accuracy: 0.9883\n",
      "Epoch 5/15\n",
      "422/422 [==============================] - 41s 97ms/step - loss: 0.0604 - accuracy: 0.9813 - val_loss: 0.0397 - val_accuracy: 0.9892\n",
      "Epoch 6/15\n",
      "422/422 [==============================] - 39s 93ms/step - loss: 0.0579 - accuracy: 0.9815 - val_loss: 0.0367 - val_accuracy: 0.9907\n",
      "Epoch 7/15\n",
      "422/422 [==============================] - 42s 99ms/step - loss: 0.0524 - accuracy: 0.9836 - val_loss: 0.0339 - val_accuracy: 0.9917\n",
      "Epoch 8/15\n",
      "422/422 [==============================] - 41s 98ms/step - loss: 0.0483 - accuracy: 0.9850 - val_loss: 0.0321 - val_accuracy: 0.9917\n",
      "Epoch 9/15\n",
      "422/422 [==============================] - 42s 100ms/step - loss: 0.0458 - accuracy: 0.9854 - val_loss: 0.0325 - val_accuracy: 0.9925\n",
      "Epoch 10/15\n",
      "422/422 [==============================] - 50s 118ms/step - loss: 0.0430 - accuracy: 0.9867 - val_loss: 0.0322 - val_accuracy: 0.9907\n",
      "Epoch 11/15\n",
      "422/422 [==============================] - 125s 297ms/step - loss: 0.0406 - accuracy: 0.9869 - val_loss: 0.0301 - val_accuracy: 0.9917\n",
      "Epoch 12/15\n",
      "422/422 [==============================] - 59s 139ms/step - loss: 0.0381 - accuracy: 0.9878 - val_loss: 0.0303 - val_accuracy: 0.9920\n",
      "Epoch 13/15\n",
      "422/422 [==============================] - 70s 166ms/step - loss: 0.0358 - accuracy: 0.9885 - val_loss: 0.0305 - val_accuracy: 0.9920\n",
      "Epoch 14/15\n",
      "422/422 [==============================] - 45s 105ms/step - loss: 0.0347 - accuracy: 0.9889 - val_loss: 0.0294 - val_accuracy: 0.9910\n",
      "Epoch 15/15\n",
      "422/422 [==============================] - 39s 93ms/step - loss: 0.0334 - accuracy: 0.9891 - val_loss: 0.0274 - val_accuracy: 0.9918\n",
      "Saving Model: <keras.engine.sequential.Sequential object at 0x7f3795c28850>\n",
      "Loading Model from volumes..\n",
      "Current directory:\n",
      "/home/tobias/Desktop/DS_ToolKits_Project\n",
      "Test loss: 0.02443084307014942\n",
      "Test accuracy: 0.9912999868392944\n"
     ]
    }
   ],
   "source": [
    "import codepy.data_preparation as data_preparation\n",
    "import codepy.build_model as build\n",
    "import codepy.model_inspection as inspection\n",
    "import codepy.predictions as predictions\n",
    "import numpy as np\n",
    "import random\n",
    "import wandb\n",
    "from wandb.keras import WandbCallback\n",
    "# import database_pg\n",
    "\n",
    "def initialize_wandb():\n",
    "    wandb.init(project=\"ipynb_test_runs\", entity=\"unilu-dstoolkits\")\n",
    "initialize_wandb()\n",
    "num_classes, input_shape, x_train, y_train, x_test, y_test = data_preparation.prepare_data()\n",
    "#Comment form here..\n",
    "model = build.build_model(num_classes, input_shape)\n",
    "def train_model(x_train, y_train, x_test, y_test, model):\n",
    "    wandb.config = {\n",
    "        \"epochs\": 15,\n",
    "        \"batch_size\": 128,\n",
    "        \"loss\": \"categorical_crossentropy\",\n",
    "        \"optimizer\": \"adam\",\n",
    "        \"metrics\" : \"accuracy\",\n",
    "        \"validation_split\" : 0.1,\n",
    "        \n",
    "    }\n",
    "\n",
    "    model.compile(loss= wandb.config['loss'], optimizer= wandb.config['optimizer'], metrics= [wandb.config['metrics']])\n",
    "\n",
    "    model.fit(x_train, y_train, batch_size= wandb.config['batch_size'],\n",
    "              epochs= wandb.config['epochs'], validation_split= wandb.config['validation_split'],\n",
    "              validation_data=(x_test, y_test),\n",
    "              callbacks=[WandbCallback()])\n",
    "\n",
    "# Call function\n",
    "train_model(x_train, y_train, x_test, y_test, model)\n",
    "inspection.save_model(model)\n",
    "#..To here for testing purposes \n",
    "loaded_model = inspection.load_model()\n",
    "inspection.evaluate_loaded_model(x_test, y_test, loaded_model)\n",
    "# predictions.predict_on_data(x_test, y_test, loaded_model)\n",
    "# database_pg.create_milestone3_db()\n",
    "# database_pg.create_input_pred_db()\n",
    "# random_img_x, squeezed_random_img_x, img_from_db = database_pg.insert_load_random_image()\n",
    "# database_pg.predict_and_persist(img_from_db, loaded_model)\n",
    "\n",
    "    "
   ]
  },
  {
   "cell_type": "code",
   "execution_count": 20,
   "metadata": {},
   "outputs": [
    {
     "name": "stdout",
     "output_type": "stream",
     "text": [
      "Predictions array: [7 2 1 ... 4 5 6] (10000, 10) <class 'numpy.ndarray'> (10000, 28, 28, 1)\n"
     ]
    }
   ],
   "source": [
    "# Predicting something with loaded_model\n",
    "prediction  = loaded_model.predict(x_test)\n",
    "# print(prediction)\n",
    "\n",
    "#convert to int array \n",
    "int_predictions = np.argmax(prediction, axis = 1)\n",
    "print('Predictions array:', int_predictions, prediction.shape, type(x_test), x_test.shape)\n"
   ]
  },
  {
   "cell_type": "code",
   "execution_count": 21,
   "metadata": {},
   "outputs": [
    {
     "name": "stdout",
     "output_type": "stream",
     "text": [
      "Random Numbers selected in array: [3635, 9667, 1614, 54, 2666]\n",
      "Showcase to evaluate predictions:\n"
     ]
    }
   ],
   "source": [
    "\n",
    "random_numbers = random.sample(range(0,10000),5)\n",
    "print('Random Numbers selected in array:', random_numbers)\n",
    "\n",
    "print('Showcase to evaluate predictions:')\n",
    "for i, number in enumerate(random_numbers):\n",
    "    wandb.log({\"img\": [wandb.Image(x_test[random_numbers[i]], \n",
    "                                   caption=int_predictions[random_numbers[i]])]})\n",
    "    "
   ]
  },
  {
   "cell_type": "code",
   "execution_count": 22,
   "metadata": {},
   "outputs": [
    {
     "data": {
      "text/html": [
       "<br/>Waiting for W&B process to finish, PID 24899... <strong style=\"color:green\">(success).</strong>"
      ],
      "text/plain": [
       "<IPython.core.display.HTML object>"
      ]
     },
     "metadata": {},
     "output_type": "display_data"
    },
    {
     "data": {
      "application/vnd.jupyter.widget-view+json": {
       "model_id": "a6c0ec4d6fb84138adef188ae382373b",
       "version_major": 2,
       "version_minor": 0
      },
      "text/plain": [
       "VBox(children=(Label(value=' 0.45MB of 0.45MB uploaded (0.00MB deduped)\\r'), FloatProgress(value=1.0, max=1.0)…"
      ]
     },
     "metadata": {},
     "output_type": "display_data"
    },
    {
     "data": {
      "text/html": [
       "<style>\n",
       "    table.wandb td:nth-child(1) { padding: 0 10px; text-align: right }\n",
       "    .wandb-row { display: flex; flex-direction: row; flex-wrap: wrap; width: 100% }\n",
       "    .wandb-col { display: flex; flex-direction: column; flex-basis: 100%; flex: 1; padding: 10px; }\n",
       "    </style>\n",
       "<div class=\"wandb-row\"><div class=\"wandb-col\">\n",
       "<h3>Run history:</h3><br/><table class=\"wandb\"><tr><td>accuracy</td><td>▁▆▇▇▇▇█████████</td></tr><tr><td>epoch</td><td>▁▁▂▃▃▃▄▅▅▅▆▇▇▇█</td></tr><tr><td>loss</td><td>█▃▂▂▂▂▁▁▁▁▁▁▁▁▁</td></tr><tr><td>val_accuracy</td><td>▁▅▅▆▆▇███▇███▇█</td></tr><tr><td>val_loss</td><td>█▄▄▃▃▂▂▂▂▂▁▁▁▁▁</td></tr></table><br/></div><div class=\"wandb-col\">\n",
       "<h3>Run summary:</h3><br/><table class=\"wandb\"><tr><td>accuracy</td><td>0.98907</td></tr><tr><td>best_epoch</td><td>14</td></tr><tr><td>best_val_loss</td><td>0.02745</td></tr><tr><td>epoch</td><td>14</td></tr><tr><td>loss</td><td>0.03335</td></tr><tr><td>val_accuracy</td><td>0.99183</td></tr><tr><td>val_loss</td><td>0.02745</td></tr></table>\n",
       "</div></div>\n",
       "Synced 6 W&B file(s), 6 media file(s), 0 artifact file(s) and 2 other file(s)\n",
       "<br/>Synced <strong style=\"color:#cdcd00\">dashing-energy-3</strong>: <a href=\"https://wandb.ai/unilu-dstoolkits/ipynb_test_runs/runs/2qxv7lnm\" target=\"_blank\">https://wandb.ai/unilu-dstoolkits/ipynb_test_runs/runs/2qxv7lnm</a><br/>\n",
       "Find logs at: <code>./wandb/run-20211206_230202-2qxv7lnm/logs</code><br/>\n"
      ],
      "text/plain": [
       "<IPython.core.display.HTML object>"
      ]
     },
     "metadata": {},
     "output_type": "display_data"
    }
   ],
   "source": [
    "wandb.finish()"
   ]
  }
 ],
 "metadata": {
  "interpreter": {
   "hash": "91001342a52700311bfaf3b01c2e025c2fc002160a7f3b4d189119299144eceb"
  },
  "kernelspec": {
   "display_name": "Python 3.8.10 64-bit ('virtualenvPY': venv)",
   "language": "python",
   "name": "python3"
  },
  "language_info": {
   "codemirror_mode": {
    "name": "ipython",
    "version": 3
   },
   "file_extension": ".py",
   "mimetype": "text/x-python",
   "name": "python",
   "nbconvert_exporter": "python",
   "pygments_lexer": "ipython3",
   "version": "3.8.10"
  },
  "orig_nbformat": 4
 },
 "nbformat": 4,
 "nbformat_minor": 2
}
