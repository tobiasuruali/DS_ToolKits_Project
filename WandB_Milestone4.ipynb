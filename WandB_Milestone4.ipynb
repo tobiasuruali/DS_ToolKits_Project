{
 "cells": [
  {
   "cell_type": "code",
   "execution_count": 16,
   "metadata": {},
   "outputs": [
    {
     "name": "stderr",
     "output_type": "stream",
     "text": [
      "2021-12-07 23:46:54.759315: W tensorflow/stream_executor/platform/default/dso_loader.cc:64] Could not load dynamic library 'libcudart.so.11.0'; dlerror: libcudart.so.11.0: cannot open shared object file: No such file or directory\n",
      "2021-12-07 23:46:54.759385: I tensorflow/stream_executor/cuda/cudart_stub.cc:29] Ignore above cudart dlerror if you do not have a GPU set up on your machine.\n"
     ]
    },
    {
     "data": {
      "text/html": [
       "\n",
       "                    Syncing run <strong><a href=\"https://wandb.ai/unilu-dstoolkits/ipynb_test_runs/runs/2ivndfr7\" target=\"_blank\">visionary-flower-9</a></strong> to <a href=\"https://wandb.ai/unilu-dstoolkits/ipynb_test_runs\" target=\"_blank\">Weights & Biases</a> (<a href=\"https://docs.wandb.com/integrations/jupyter.html\" target=\"_blank\">docs</a>).<br/>\n",
       "\n",
       "                "
      ],
      "text/plain": [
       "<IPython.core.display.HTML object>"
      ]
     },
     "metadata": {},
     "output_type": "display_data"
    },
    {
     "name": "stdout",
     "output_type": "stream",
     "text": [
      "x_train shape: (60000, 28, 28, 1)\n",
      "60000 train samples\n",
      "10000 test samples\n",
      "Model: \"sequential_2\"\n",
      "_________________________________________________________________\n",
      " Layer (type)                Output Shape              Param #   \n",
      "=================================================================\n",
      " conv2d_4 (Conv2D)           (None, 26, 26, 32)        320       \n",
      "                                                                 \n",
      " max_pooling2d_4 (MaxPooling  (None, 13, 13, 32)       0         \n",
      " 2D)                                                             \n",
      "                                                                 \n",
      " conv2d_5 (Conv2D)           (None, 11, 11, 64)        18496     \n",
      "                                                                 \n",
      " max_pooling2d_5 (MaxPooling  (None, 5, 5, 64)         0         \n",
      " 2D)                                                             \n",
      "                                                                 \n",
      " flatten_2 (Flatten)         (None, 1600)              0         \n",
      "                                                                 \n",
      " dropout_2 (Dropout)         (None, 1600)              0         \n",
      "                                                                 \n",
      " dense_2 (Dense)             (None, 10)                16010     \n",
      "                                                                 \n",
      "=================================================================\n",
      "Total params: 34,826\n",
      "Trainable params: 34,826\n",
      "Non-trainable params: 0\n",
      "_________________________________________________________________\n",
      "Epoch 1/12\n",
      "422/422 [==============================] - 48s 111ms/step - loss: 0.3709 - accuracy: 0.8867 - val_loss: 0.0820 - val_accuracy: 0.9777\n",
      "Epoch 2/12\n",
      "422/422 [==============================] - 52s 122ms/step - loss: 0.1143 - accuracy: 0.9648 - val_loss: 0.0592 - val_accuracy: 0.9857\n",
      "Epoch 3/12\n",
      "422/422 [==============================] - 32s 76ms/step - loss: 0.0852 - accuracy: 0.9732 - val_loss: 0.0504 - val_accuracy: 0.9868\n",
      "Epoch 4/12\n",
      "422/422 [==============================] - 42s 99ms/step - loss: 0.0716 - accuracy: 0.9776 - val_loss: 0.0427 - val_accuracy: 0.9898\n",
      "Epoch 5/12\n",
      "422/422 [==============================] - 44s 105ms/step - loss: 0.0637 - accuracy: 0.9803 - val_loss: 0.0421 - val_accuracy: 0.9892\n",
      "Epoch 6/12\n",
      "422/422 [==============================] - 40s 95ms/step - loss: 0.0569 - accuracy: 0.9825 - val_loss: 0.0350 - val_accuracy: 0.9913\n",
      "Epoch 7/12\n",
      "422/422 [==============================] - 41s 96ms/step - loss: 0.0517 - accuracy: 0.9841 - val_loss: 0.0347 - val_accuracy: 0.9903\n",
      "Epoch 8/12\n",
      "422/422 [==============================] - 42s 99ms/step - loss: 0.0470 - accuracy: 0.9852 - val_loss: 0.0333 - val_accuracy: 0.9893\n",
      "Epoch 9/12\n",
      "422/422 [==============================] - 42s 100ms/step - loss: 0.0445 - accuracy: 0.9861 - val_loss: 0.0345 - val_accuracy: 0.9905\n",
      "Epoch 10/12\n",
      "422/422 [==============================] - 41s 97ms/step - loss: 0.0419 - accuracy: 0.9866 - val_loss: 0.0288 - val_accuracy: 0.9917\n",
      "Epoch 11/12\n",
      "422/422 [==============================] - 41s 97ms/step - loss: 0.0381 - accuracy: 0.9876 - val_loss: 0.0309 - val_accuracy: 0.9917\n",
      "Epoch 12/12\n",
      "422/422 [==============================] - 44s 104ms/step - loss: 0.0388 - accuracy: 0.9880 - val_loss: 0.0344 - val_accuracy: 0.9905\n",
      "Saving Model: <keras.engine.sequential.Sequential object at 0x7f77f530a220>\n",
      "Loading Model from volumes..\n",
      "Current directory:\n",
      "/home/tobias/Desktop/DS_ToolKits_Project\n",
      "Test loss: 0.029049836099147797\n",
      "Test accuracy: 0.989799976348877\n"
     ]
    }
   ],
   "source": [
    "import codepy.data_preparation as data_preparation\n",
    "import codepy.build_model as build\n",
    "import codepy.model_inspection as inspection\n",
    "import codepy.predictions as predictions\n",
    "import numpy as np\n",
    "import random\n",
    "import wandb\n",
    "from wandb.keras import WandbCallback\n",
    "# import database_pg\n",
    "\n",
    "def initialize_wandb():\n",
    "    wandb.init(project=\"ipynb_test_runs\", entity=\"unilu-dstoolkits\")\n",
    "initialize_wandb()\n",
    "num_classes, input_shape, x_train, y_train, x_test, y_test = data_preparation.prepare_data()\n",
    "#Comment form here..\n",
    "model = build.build_model(num_classes, input_shape)\n",
    "def train_model(x_train, y_train, x_test, y_test, model):\n",
    "    wandb.config = {\n",
    "        \"epochs\": 12,\n",
    "        \"batch_size\": 128,\n",
    "        \"loss\": \"categorical_crossentropy\",\n",
    "        \"optimizer\": \"adam\",\n",
    "        \"metrics\" : \"accuracy\",\n",
    "        \"validation_split\" : 0.1,\n",
    "        \n",
    "    }\n",
    "\n",
    "    model.compile(loss= wandb.config['loss'], optimizer= wandb.config['optimizer'], metrics= [wandb.config['metrics']])\n",
    "\n",
    "    model.fit(x_train, y_train, batch_size= wandb.config['batch_size'],\n",
    "              epochs= wandb.config['epochs'], validation_split= wandb.config['validation_split'],\n",
    "              validation_data=(x_test, y_test),\n",
    "              callbacks=[WandbCallback()])\n",
    "\n",
    "# Call function\n",
    "train_model(x_train, y_train, x_test, y_test, model)\n",
    "inspection.save_model(model)\n",
    "#..To here for testing purposes \n",
    "loaded_model = inspection.load_model()\n",
    "inspection.evaluate_loaded_model(x_test, y_test, loaded_model)\n",
    "# predictions.predict_on_data(x_test, y_test, loaded_model)\n",
    "# database_pg.create_milestone3_db()\n",
    "# database_pg.create_input_pred_db()\n",
    "# random_img_x, squeezed_random_img_x, img_from_db = database_pg.insert_load_random_image()\n",
    "# database_pg.predict_and_persist(img_from_db, loaded_model)\n",
    "\n",
    "    "
   ]
  },
  {
   "cell_type": "code",
   "execution_count": 17,
   "metadata": {},
   "outputs": [
    {
     "name": "stdout",
     "output_type": "stream",
     "text": [
      "Predictions array: [7 2 1 ... 4 5 6] (10000, 10) <class 'numpy.ndarray'> (10000, 28, 28, 1)\n",
      "Y Test array: [7 2 1 ... 4 5 6] (10000, 10) <class 'numpy.ndarray'> (10000, 28, 28, 1)\n"
     ]
    }
   ],
   "source": [
    "# Predicting something with loaded_model\n",
    "prediction  = loaded_model.predict(x_test)\n",
    "# print(prediction)\n",
    "\n",
    "#convert to int array \n",
    "int_predictions = np.argmax(prediction, axis = 1)\n",
    "print('Predictions array:', int_predictions, prediction.shape, type(x_test), x_test.shape)\n",
    "\n",
    "int_y_test = np.argmax(y_test, axis = 1)\n",
    "print('Y Test array:', int_y_test, y_test.shape, type(x_test), x_test.shape)\n",
    "\n"
   ]
  },
  {
   "cell_type": "code",
   "execution_count": 18,
   "metadata": {},
   "outputs": [
    {
     "name": "stdout",
     "output_type": "stream",
     "text": [
      "Random Numbers selected in array: [6564, 735, 3541, 6508, 3555]\n",
      "Showcase to evaluate predictions:\n",
      "6564\n",
      "735\n",
      "3541\n",
      "6508\n",
      "3555\n"
     ]
    }
   ],
   "source": [
    "\n",
    "random_numbers = random.sample(range(0,10000),5)\n",
    "print('Random Numbers selected in array:', random_numbers)\n",
    "\n",
    "print('Showcase to evaluate predictions:')\n",
    "for i, number in enumerate(random_numbers):\n",
    "    wandb.log({\"img\": [wandb.Image(x_test[random_numbers[i]], \n",
    "                                   caption=int_predictions[random_numbers[i]])]})\n",
    "    print(random_numbers[i])\n",
    "    "
   ]
  },
  {
   "cell_type": "code",
   "execution_count": 19,
   "metadata": {},
   "outputs": [
    {
     "name": "stdout",
     "output_type": "stream",
     "text": [
      "(10000, 10) (10000, 10)\n",
      "[0, 1, 2, 3, 4, 5, 6, 7, 8, 9]\n"
     ]
    }
   ],
   "source": [
    "#Create Confusion Matrix \n",
    "print(y_test.shape, prediction.shape)\n",
    "class_names = (list(range(0,10)))\n",
    "print(class_names)\n",
    "\n",
    "wandb.log({\"conf_mat\" : wandb.plot.confusion_matrix(probs=None,\n",
    "                        y_true=int_y_test, preds=int_predictions,\n",
    "                        class_names=class_names)})"
   ]
  },
  {
   "cell_type": "code",
   "execution_count": 20,
   "metadata": {},
   "outputs": [
    {
     "name": "stdout",
     "output_type": "stream",
     "text": [
      "6564\n",
      "735\n",
      "3541\n",
      "6508\n",
      "3555\n"
     ]
    }
   ],
   "source": [
    "#Create table to visualize the guesses \n",
    "\n",
    "columns=[\"id\", \"image\", \"prediction\", \"truth\"]\n",
    "img_ids = (list(range(5,10)))\n",
    "prediction_table = wandb.Table(columns=columns)\n",
    "\n",
    "#To save a table of all predictions/images \n",
    "# for i, pictures in enumerate(int_predictions):\n",
    "#     prediction_table.add_data(i, wandb.Image(x_test[i]), int_predictions[i], int_y_test[i])\n",
    "\n",
    "for i, number in enumerate(random_numbers):    \n",
    "    prediction_table.add_data(random_numbers[i], wandb.Image(x_test[random_numbers[i]]), int_predictions[i], int_y_test[i])\n",
    "    print(random_numbers[i])\n",
    "wandb.log({\"prediction_table\": prediction_table})\n"
   ]
  },
  {
   "cell_type": "code",
   "execution_count": 21,
   "metadata": {},
   "outputs": [
    {
     "data": {
      "text/html": [
       "<br/>Waiting for W&B process to finish, PID 16054... <strong style=\"color:green\">(success).</strong>"
      ],
      "text/plain": [
       "<IPython.core.display.HTML object>"
      ]
     },
     "metadata": {},
     "output_type": "display_data"
    },
    {
     "data": {
      "application/vnd.jupyter.widget-view+json": {
       "model_id": "ccf7e5f180614385a563d52a5c157f12",
       "version_major": 2,
       "version_minor": 0
      },
      "text/plain": [
       "VBox(children=(Label(value=' 0.46MB of 0.46MB uploaded (0.00MB deduped)\\r'), FloatProgress(value=1.0, max=1.0)…"
      ]
     },
     "metadata": {},
     "output_type": "display_data"
    },
    {
     "data": {
      "text/html": [
       "<style>\n",
       "    table.wandb td:nth-child(1) { padding: 0 10px; text-align: right }\n",
       "    .wandb-row { display: flex; flex-direction: row; flex-wrap: wrap; width: 100% }\n",
       "    .wandb-col { display: flex; flex-direction: column; flex-basis: 100%; flex: 1; padding: 10px; }\n",
       "    </style>\n",
       "<div class=\"wandb-row\"><div class=\"wandb-col\">\n",
       "<h3>Run history:</h3><br/><table class=\"wandb\"><tr><td>accuracy</td><td>▁▆▇▇▇███████</td></tr><tr><td>epoch</td><td>▁▂▂▃▄▄▅▅▆▇▇█</td></tr><tr><td>loss</td><td>█▃▂▂▂▁▁▁▁▁▁▁</td></tr><tr><td>val_accuracy</td><td>▁▅▆▇▇█▇▇▇██▇</td></tr><tr><td>val_loss</td><td>█▅▄▃▃▂▂▂▂▁▁▂</td></tr></table><br/></div><div class=\"wandb-col\">\n",
       "<h3>Run summary:</h3><br/><table class=\"wandb\"><tr><td>accuracy</td><td>0.98804</td></tr><tr><td>best_epoch</td><td>9</td></tr><tr><td>best_val_loss</td><td>0.02885</td></tr><tr><td>epoch</td><td>11</td></tr><tr><td>loss</td><td>0.03884</td></tr><tr><td>val_accuracy</td><td>0.9905</td></tr><tr><td>val_loss</td><td>0.03437</td></tr></table>\n",
       "</div></div>\n",
       "Synced 6 W&B file(s), 8 media file(s), 7 artifact file(s) and 2 other file(s)\n",
       "<br/>Synced <strong style=\"color:#cdcd00\">visionary-flower-9</strong>: <a href=\"https://wandb.ai/unilu-dstoolkits/ipynb_test_runs/runs/2ivndfr7\" target=\"_blank\">https://wandb.ai/unilu-dstoolkits/ipynb_test_runs/runs/2ivndfr7</a><br/>\n",
       "Find logs at: <code>./wandb/run-20211207_234647-2ivndfr7/logs</code><br/>\n"
      ],
      "text/plain": [
       "<IPython.core.display.HTML object>"
      ]
     },
     "metadata": {},
     "output_type": "display_data"
    }
   ],
   "source": [
    "wandb.finish()"
   ]
  }
 ],
 "metadata": {
  "interpreter": {
   "hash": "91001342a52700311bfaf3b01c2e025c2fc002160a7f3b4d189119299144eceb"
  },
  "kernelspec": {
   "display_name": "Python 3.8.10 64-bit ('virtualenvPY': venv)",
   "language": "python",
   "name": "python3"
  },
  "language_info": {
   "codemirror_mode": {
    "name": "ipython",
    "version": 3
   },
   "file_extension": ".py",
   "mimetype": "text/x-python",
   "name": "python",
   "nbconvert_exporter": "python",
   "pygments_lexer": "ipython3",
   "version": "3.8.10"
  },
  "orig_nbformat": 4
 },
 "nbformat": 4,
 "nbformat_minor": 2
}
