{
 "cells": [
  {
   "cell_type": "code",
   "execution_count": 93,
   "metadata": {},
   "outputs": [
    {
     "name": "stdout",
     "output_type": "stream",
     "text": [
      "['c:\\\\Users\\\\tobia\\\\Documents\\\\Studium\\\\Master\\\\3_Semester\\\\DataScienceToolkits\\\\DS_ToolKits_Project', 'c:\\\\Users\\\\tobia\\\\.vscode\\\\extensions\\\\ms-toolsai.jupyter-2021.10.1101450599\\\\pythonFiles', 'c:\\\\Users\\\\tobia\\\\.vscode\\\\extensions\\\\ms-toolsai.jupyter-2021.10.1101450599\\\\pythonFiles\\\\lib\\\\python', 'C:\\\\ProgramData\\\\Anaconda3\\\\python38.zip', 'C:\\\\ProgramData\\\\Anaconda3\\\\DLLs', 'C:\\\\ProgramData\\\\Anaconda3\\\\lib', 'C:\\\\ProgramData\\\\Anaconda3', '', 'C:\\\\Users\\\\tobia\\\\AppData\\\\Roaming\\\\Python\\\\Python38\\\\site-packages', 'C:\\\\ProgramData\\\\Anaconda3\\\\lib\\\\site-packages', 'C:\\\\ProgramData\\\\Anaconda3\\\\lib\\\\site-packages\\\\locket-0.2.1-py3.8.egg', 'C:\\\\ProgramData\\\\Anaconda3\\\\lib\\\\site-packages\\\\win32', 'C:\\\\ProgramData\\\\Anaconda3\\\\lib\\\\site-packages\\\\win32\\\\lib', 'C:\\\\ProgramData\\\\Anaconda3\\\\lib\\\\site-packages\\\\Pythonwin', 'C:\\\\Users\\\\tobia\\\\AppData\\\\Roaming\\\\Python\\\\Python38\\\\site-packages\\\\IPython\\\\extensions', 'C:\\\\Users\\\\tobia\\\\.ipython', 'c:\\\\Users\\\\tobia\\\\Documents\\\\Studium\\\\Master\\\\3_Semester\\\\DataScienceToolkits\\\\DS_ToolKits_Project\\\\code']\n"
     ]
    }
   ],
   "source": [
    "## Access to other paths and modules incase of Windows usage\n",
    "\n",
    "import sys\n",
    "print(sys.path)\n",
    "sys.path.append('c:\\\\Users\\\\tobia\\\\Documents\\\\Studium\\\\Master\\\\3_Semester\\\\DataScienceToolkits\\\\DS_ToolKits_Project\\\\code')\n",
    "# sys.path.remove('')"
   ]
  },
  {
   "cell_type": "code",
   "execution_count": 94,
   "metadata": {},
   "outputs": [
    {
     "name": "stdout",
     "output_type": "stream",
     "text": [
      "x_train shape: (60000, 28, 28, 1)\n",
      "60000 train samples\n",
      "10000 test samples\n"
     ]
    }
   ],
   "source": [
    "import numpy as np\n",
    "from tensorflow import keras\n",
    "from tensorflow.keras import layers\n",
    "import codepy.data_preparation as data_preparation\n",
    "\n",
    "num_classes, input_shape, x_train, y_train, x_test, y_test = data_preparation.prepare_data()\n",
    "\n"
   ]
  },
  {
   "cell_type": "code",
   "execution_count": 95,
   "metadata": {},
   "outputs": [
    {
     "name": "stdout",
     "output_type": "stream",
     "text": [
      "1875/1875 [==============================] - 33s 17ms/step - loss: 0.0469 - accuracy: 0.9858\n"
     ]
    },
    {
     "data": {
      "text/plain": [
       "<keras.callbacks.History at 0x2778a7d4190>"
      ]
     },
     "execution_count": 95,
     "metadata": {},
     "output_type": "execute_result"
    }
   ],
   "source": [
    "# It can be used to reconstruct the model identically.\n",
    "loaded_model = keras.models.load_model(\"keras_model.h5\")\n",
    "\n",
    "\n",
    "# # Let's check:\n",
    "# np.testing.assert_allclose(\n",
    "#     model.predict(x_train), reconstructed_model.predict(x_train)\n",
    "# )\n",
    "\n",
    "\n",
    "# The reconstructed model is already compiled and has retained the optimizer\n",
    "# state, so training can resume:\n",
    "loaded_model.fit(x_train, y_train)"
   ]
  },
  {
   "cell_type": "code",
   "execution_count": 96,
   "metadata": {},
   "outputs": [
    {
     "name": "stdout",
     "output_type": "stream",
     "text": [
      "Predictions array: [7 2 1 ... 4 5 6] (10000, 10) <class 'numpy.ndarray'> (10000, 28, 28, 1)\n"
     ]
    }
   ],
   "source": [
    "\n",
    "from PIL import Image as im\n",
    "\n",
    "one_picture_x = x_test[1:2]\n",
    "\n",
    "# Predicting something with loaded_model\n",
    "prediction  = loaded_model.predict(x_test)\n",
    "# print(prediction)\n",
    "\n",
    "#convert to int array \n",
    "int_predictions = np.argmax(prediction, axis = 1)\n",
    "print('Predictions array:', int_predictions, prediction.shape, type(x_test), x_test.shape)\n",
    "\n"
   ]
  },
  {
   "cell_type": "code",
   "execution_count": 98,
   "metadata": {},
   "outputs": [
    {
     "name": "stdout",
     "output_type": "stream",
     "text": [
      "Shape of x_test: (10000, 28, 28, 1) Shape of y_test: (10000, 10)\n",
      "Random Numbers selected in array: [8539, 5523, 2586, 7884, 7424]\n",
      "Showcase to evaluate predictions:\n",
      "[0. 1. 2. 3. 4. 5. 6. 7. 8. 9.]\n",
      "5\n"
     ]
    },
    {
     "data": {
      "image/png": "[encoded data removed]",
      "text/plain": [
       "<Figure size 432x288 with 1 Axes>"
      ]
     },
     "metadata": {
      "needs_background": "light"
     },
     "output_type": "display_data"
    },
    {
     "name": "stdout",
     "output_type": "stream",
     "text": [
      "[0. 1. 2. 3. 4. 5. 6. 7. 8. 9.]\n",
      "9\n"
     ]
    },
    {
     "data": {
      "image/png": "[encoded data removed]",
      "text/plain": [
       "<Figure size 432x288 with 1 Axes>"
      ]
     },
     "metadata": {
      "needs_background": "light"
     },
     "output_type": "display_data"
    },
    {
     "name": "stdout",
     "output_type": "stream",
     "text": [
      "[0. 1. 2. 3. 4. 5. 6. 7. 8. 9.]\n",
      "5\n"
     ]
    },
    {
     "data": {
      "image/png": "[encoded data removed]",
      "text/plain": [
       "<Figure size 432x288 with 1 Axes>"
      ]
     },
     "metadata": {
      "needs_background": "light"
     },
     "output_type": "display_data"
    },
    {
     "name": "stdout",
     "output_type": "stream",
     "text": [
      "[0. 1. 2. 3. 4. 5. 6. 7. 8. 9.]\n",
      "9\n"
     ]
    },
    {
     "data": {
      "image/png": "[encoded data removed]",
      "text/plain": [
       "<Figure size 432x288 with 1 Axes>"
      ]
     },
     "metadata": {
      "needs_background": "light"
     },
     "output_type": "display_data"
    },
    {
     "name": "stdout",
     "output_type": "stream",
     "text": [
      "[0. 1. 2. 3. 4. 5. 6. 7. 8. 9.]\n",
      "1\n"
     ]
    },
    {
     "data": {
      "image/png": "[encoded data removed]",
      "text/plain": [
       "<Figure size 432x288 with 1 Axes>"
      ]
     },
     "metadata": {
      "needs_background": "light"
     },
     "output_type": "display_data"
    }
   ],
   "source": [
    "#Understanding if the Predictions work well\n",
    "\n",
    "import matplotlib.pyplot as plt \n",
    "import random\n",
    "\n",
    "print('Shape of x_test:', x_test.shape,'Shape of y_test:', y_test.shape)\n",
    "# print(y_test[0])\n",
    "\n",
    "random_numbers = random.sample(range(0,10000),5)\n",
    "print('Random Numbers selected in array:', random_numbers)\n",
    "\n",
    "# Plot Predicitions vs their actual numbers\n",
    "print('Showcase to evaluate predictions:')\n",
    "for i, number in enumerate(random_numbers):\n",
    "    print('[0. 1. 2. 3. 4. 5. 6. 7. 8. 9.]')\n",
    "    print(int_predictions[random_numbers[i]])\n",
    "    plt.imshow(x_test[random_numbers[i]], cmap=plt.get_cmap('gray'))\n",
    "    plt.show()\n",
    "    \n",
    "\n",
    "    \n",
    "# # plot images as gray scale\n",
    "# plt.subplot(221)\n",
    "# print(y_test[0],y_test[120],y_test[9999],y_test[5500])\n",
    "# plt.imshow(x_test[0], cmap=plt.get_cmap('gray'))\n",
    "# plt.subplot(222)\n",
    "# plt.imshow(x_test[120], cmap=plt.get_cmap('gray'))\n",
    "# plt.subplot(223)\n",
    "# plt.imshow(x_test[9999], cmap=plt.get_cmap('gray'))\n",
    "# plt.subplot(224)\n",
    "# plt.imshow(x_test[5500], cmap=plt.get_cmap('gray'))\n",
    "# # show the plot\n",
    "# plt.show()\n",
    "\n"
   ]
  },
  {
   "cell_type": "code",
   "execution_count": 99,
   "metadata": {},
   "outputs": [],
   "source": [
    "# # (x_train, y_train), (x_test, y_test) = keras.datasets.mnist.load_data()\n",
    "\n",
    "# from PIL import Image as im\n",
    "# import numpy\n",
    "# # import cv2 as cv2\n",
    "\n",
    "# print(x_test[5042].shape, type(x_test[5042]), x_test.shape)\n",
    "\n",
    "# # x_test = np.expand_dims(x_test, -1)\n",
    "# # print(\"x_test shape:\", x_test.shape[1])\n",
    "\n",
    "# # reduced_x_test = np.squeeze(x_test, axis=3)\n",
    "# # print(reduced_x_test.shape[1])\n",
    "# # reduced_data = im.fromarray(reduced_x_test[1])\n",
    "# # reduced_data.save('reduced_x_test.png', reduced_data)\n",
    "# data = im.fromarray(x_test[1])\n",
    "# data.save('test_image_x.png')\n",
    "\n",
    "# # img = x_test[1]\n",
    "# # cv2.imwrite('cv2_test_image.png', img)\n",
    "# # x_train = x_train.astype(\"float32\") / 255\n",
    "# # x_test = x_test.astype(\"float32\") / 255\n",
    "\n",
    "# # print(x_test.shape)\n",
    "# # print(x_train.shape)\n",
    "# # print(y_train[2])\n",
    "\n",
    "\n",
    "# # import matplotlib.image as image\n",
    "# # img=image.imread('test_image.png')\n",
    "# # print('The Shape of the image is:',img.shape)\n",
    "# # print('The image as array is:')\n",
    "# # print(img)\n"
   ]
  },
  {
   "cell_type": "code",
   "execution_count": 89,
   "metadata": {},
   "outputs": [
    {
     "name": "stdout",
     "output_type": "stream",
     "text": [
      "Random number selected in array: 1699\n",
      "(1, 28, 28, 1) (28, 28, 1)\n",
      "Predictions array: [7] (1, 10) <class 'numpy.ndarray'>\n",
      "(28, 28, 1) (28, 28, 1) (1, 28, 28, 1)\n",
      "Showcase to evaluate predictions:\n",
      "[0. 1. 2. 3. 4. 5. 6. 7. 8. 9.]\n",
      "[7]\n"
     ]
    },
    {
     "data": {
      "text/plain": [
       "<Figure size 432x288 with 0 Axes>"
      ]
     },
     "metadata": {},
     "output_type": "display_data"
    }
   ],
   "source": [
    "## LOADING AND TESTING MODEL ON SINGLE PREDICTION\n",
    "\n",
    "import numpy as np\n",
    "from tensorflow import keras\n",
    "from tensorflow.keras import layers\n",
    "from PIL import Image as im\n",
    "import matplotlib.pyplot as plt \n",
    "\n",
    "# # It can be used to reconstruct the model identically.\n",
    "# loaded_model = keras.models.load_model(\"keras_model.h5\")\n",
    "\n",
    "# (x_train, y_train), (x_test, y_test) = keras.datasets.mnist.load_data()\n",
    "# # The reconstructed model is already compiled and has retained the optimizer\n",
    "# # state, so training can resume:\n",
    "# loaded_model.fit(x_train, y_train)\n",
    "\n",
    "\n",
    "\n",
    "random_single_number = random.randint(0,9999)\n",
    "random_plus_one = random_single_number + 1 \n",
    "print('Random number selected in array:', random_single_number)\n",
    "one_pic_x = x_test[random_single_number:random_plus_one]\n",
    "squeezed_one_pic_x = np.squeeze(x_test[random_single_number:random_plus_one], axis=0)\n",
    "print(one_pic_x.shape, squeezed_one_pic_x.shape)\n",
    "\n",
    "\n",
    "# def create_random_picture_array():\n",
    "#     for i in random_single_number:\n",
    "#         one_pic_x = x_test[i:(i+1)]\n",
    "#         squeezed_one_pic_x = np.squeeze(x_test[i:(i+1)], axis=0)\n",
    "#         return squeezed_one_pic_x, one_pic_x\n",
    "# squeezed_one_pic_x, one_pic_x = create_random_picture_array()\n",
    "\n",
    "# Predicting something with loaded_model\n",
    "prediction  = loaded_model.predict(one_pic_x)\n",
    "# print(prediction)\n",
    "\n",
    "#convert to int array \n",
    "int_single_prediction = np.argmax(prediction, axis = 1)\n",
    "print('Predictions array:', int_single_prediction, prediction.shape, type(squeezed_one_pic_x))\n",
    "\n",
    "\n",
    "print(squeezed_one_pic_x.shape, x_test[random_single_number].shape, one_pic_x.shape)\n",
    "\n",
    "#Plot Predicitions vs their actual numbers\n",
    "print('Showcase to evaluate predictions:')\n",
    "for i, number in enumerate(int_single_prediction):\n",
    "    print('[0. 1. 2. 3. 4. 5. 6. 7. 8. 9.]')\n",
    "    print(int_single_prediction)\n",
    "    two_d = (np.reshape(squeezed_one_pic_x, (28, 28)) * 255).astype(np.uint8)\n",
    "    plt.imshow(squeezed_one_pic_x, cmap=plt.get_cmap('gray'))\n",
    "    plt.imsave(fname=\"test_test_photo.png\",arr= two_d, cmap=plt.get_cmap('gray'))\n",
    "    # plt.savefig(\"test_x_photo.png\")\n",
    "    # plt.show() \n",
    "\n",
    "\n",
    "\n"
   ]
  },
  {
   "cell_type": "code",
   "execution_count": 76,
   "metadata": {},
   "outputs": [
    {
     "name": "stdout",
     "output_type": "stream",
     "text": [
      "(28, 28) <class 'numpy.ndarray'>\n",
      "(28, 28, 1) <class 'numpy.ndarray'> (10000, 28, 28, 1)\n",
      "(28, 28)\n",
      "False\n"
     ]
    }
   ],
   "source": [
    "# save_one_pic = np.squeeze(squeezed_one_pic_x, axis= 2)\n",
    "# print(save_one_pic.shape, type(save_one_pic))\n",
    "# print(x_test[5042].shape, type(x_test[5042]), x_test.shape)\n",
    "# x_test_squeezed = np.squeeze(x_test[5042], axis= 2)\n",
    "# print(x_test_squeezed.shape)\n",
    "# comparison = x_test[5042] == save_one_pic\n",
    "# equal_arrays = comparison.all()\n",
    "\n",
    "# print(equal_arrays)\n",
    "\n",
    "\n",
    "\n",
    "\n",
    "# data = im.fromarray(x_test_squeezed)\n",
    "# if data.mode != 'RGB':\n",
    "#     data = data.convert('RGB')\n",
    "# data.save('test_image_x.jpg')"
   ]
  }
 ],
 "metadata": {
  "interpreter": {
   "hash": "b3ba2566441a7c06988d0923437866b63cedc61552a5af99d1f4fb67d367b25f"
  },
  "kernelspec": {
   "display_name": "Python 3.8.8 64-bit (conda)",
   "language": "python",
   "name": "python3"
  },
  "language_info": {
   "codemirror_mode": {
    "name": "ipython",
    "version": 3
   },
   "file_extension": ".py",
   "mimetype": "text/x-python",
   "name": "python",
   "nbconvert_exporter": "python",
   "pygments_lexer": "ipython3",
   "version": "3.8.8"
  },
  "orig_nbformat": 4
 },
 "nbformat": 4,
 "nbformat_minor": 2
}
