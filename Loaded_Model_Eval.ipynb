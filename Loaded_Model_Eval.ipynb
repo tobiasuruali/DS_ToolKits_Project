{
 "cells": [
  {
   "cell_type": "code",
   "execution_count": 1,
   "metadata": {},
   "outputs": [
    {
     "name": "stdout",
     "output_type": "stream",
     "text": [
      "['c:\\\\Users\\\\tobia\\\\Documents\\\\Studium\\\\Master\\\\3_Semester\\\\DataScienceToolkits\\\\DS_ToolKits_Project', 'c:\\\\Users\\\\tobia\\\\.vscode\\\\extensions\\\\ms-toolsai.jupyter-2021.10.1001414422\\\\pythonFiles\\\\vscode_datascience_helpers', 'c:\\\\Users\\\\tobia\\\\.vscode\\\\extensions\\\\ms-toolsai.jupyter-2021.10.1001414422\\\\pythonFiles', 'c:\\\\Users\\\\tobia\\\\.vscode\\\\extensions\\\\ms-toolsai.jupyter-2021.10.1001414422\\\\pythonFiles\\\\lib\\\\python', 'C:\\\\ProgramData\\\\Anaconda3\\\\python38.zip', 'C:\\\\ProgramData\\\\Anaconda3\\\\DLLs', 'C:\\\\ProgramData\\\\Anaconda3\\\\lib', 'C:\\\\ProgramData\\\\Anaconda3', '', 'C:\\\\Users\\\\tobia\\\\AppData\\\\Roaming\\\\Python\\\\Python38\\\\site-packages', 'C:\\\\ProgramData\\\\Anaconda3\\\\lib\\\\site-packages', 'C:\\\\ProgramData\\\\Anaconda3\\\\lib\\\\site-packages\\\\locket-0.2.1-py3.8.egg', 'C:\\\\ProgramData\\\\Anaconda3\\\\lib\\\\site-packages\\\\win32', 'C:\\\\ProgramData\\\\Anaconda3\\\\lib\\\\site-packages\\\\win32\\\\lib', 'C:\\\\ProgramData\\\\Anaconda3\\\\lib\\\\site-packages\\\\Pythonwin', 'C:\\\\Users\\\\tobia\\\\AppData\\\\Roaming\\\\Python\\\\Python38\\\\site-packages\\\\IPython\\\\extensions', 'C:\\\\Users\\\\tobia\\\\.ipython']\n"
     ]
    }
   ],
   "source": [
    "## Access to other paths and modules incase of Windows usage\n",
    "\n",
    "import sys\n",
    "print(sys.path)\n",
    "sys.path.append('c:\\\\Users\\\\tobia\\\\Documents\\\\Studium\\\\Master\\\\3_Semester\\\\DataScienceToolkits\\\\DS_ToolKits_Project\\\\code')\n",
    "# sys.path.remove('')"
   ]
  },
  {
   "cell_type": "code",
   "execution_count": 2,
   "metadata": {},
   "outputs": [
    {
     "name": "stdout",
     "output_type": "stream",
     "text": [
      "x_train shape: (60000, 28, 28, 1)\n",
      "60000 train samples\n",
      "10000 test samples\n"
     ]
    }
   ],
   "source": [
    "import numpy as np\n",
    "from tensorflow import keras\n",
    "from tensorflow.keras import layers\n",
    "import data_preparation\n",
    "\n",
    "num_classes, input_shape, x_train, y_train, x_test, y_test = data_preparation.prepare_data()\n",
    "\n"
   ]
  },
  {
   "cell_type": "code",
   "execution_count": 3,
   "metadata": {},
   "outputs": [
    {
     "name": "stdout",
     "output_type": "stream",
     "text": [
      "1875/1875 [==============================] - 32s 17ms/step - loss: 0.0462 - accuracy: 0.9854\n"
     ]
    },
    {
     "data": {
      "text/plain": [
       "<keras.callbacks.History at 0x1e498c18f10>"
      ]
     },
     "execution_count": 3,
     "metadata": {},
     "output_type": "execute_result"
    }
   ],
   "source": [
    "# It can be used to reconstruct the model identically.\n",
    "loaded_model = keras.models.load_model(\"keras_model.h5\")\n",
    "\n",
    "\n",
    "# # Let's check:\n",
    "# np.testing.assert_allclose(\n",
    "#     model.predict(x_train), reconstructed_model.predict(x_train)\n",
    "# )\n",
    "\n",
    "\n",
    "# The reconstructed model is already compiled and has retained the optimizer\n",
    "# state, so training can resume:\n",
    "loaded_model.fit(x_train, y_train)"
   ]
  },
  {
   "cell_type": "code",
   "execution_count": 7,
   "metadata": {},
   "outputs": [
    {
     "name": "stdout",
     "output_type": "stream",
     "text": [
      "Predictions array: [7 2 1 ... 4 5 6]\n"
     ]
    }
   ],
   "source": [
    "\n",
    "# Predicting something with loaded_model\n",
    "prediction  = loaded_model.predict(x_test)\n",
    "# print(prediction)\n",
    "\n",
    "#convert to int array \n",
    "int_predictions = np.argmax(prediction, axis = 1)\n",
    "print('Predictions array:', int_predictions)\n"
   ]
  },
  {
   "cell_type": "code",
   "execution_count": 29,
   "metadata": {},
   "outputs": [
    {
     "name": "stdout",
     "output_type": "stream",
     "text": [
      "Shape of x_test: (10000, 28, 28, 1) Shape of y_test: (10000, 10)\n",
      "Random Numbers selected in array: [4059, 8124, 7586, 133, 2264]\n",
      "Showcase to evaluate predictions:\n",
      "[0. 1. 2. 3. 4. 5. 6. 7. 8. 9.]\n",
      "[0. 0. 0. 0. 0. 1. 0. 0. 0. 0.]\n"
     ]
    },
    {
     "data": {
      "image/png": "[encoded data removed]",
      "text/plain": [
       "<Figure size 432x288 with 1 Axes>"
      ]
     },
     "metadata": {
      "needs_background": "light"
     },
     "output_type": "display_data"
    },
    {
     "name": "stdout",
     "output_type": "stream",
     "text": [
      "[0. 1. 2. 3. 4. 5. 6. 7. 8. 9.]\n",
      "[0. 0. 0. 0. 0. 0. 0. 1. 0. 0.]\n"
     ]
    },
    {
     "data": {
      "image/png": "[encoded data removed]",
      "text/plain": [
       "<Figure size 432x288 with 1 Axes>"
      ]
     },
     "metadata": {
      "needs_background": "light"
     },
     "output_type": "display_data"
    },
    {
     "name": "stdout",
     "output_type": "stream",
     "text": [
      "[0. 1. 2. 3. 4. 5. 6. 7. 8. 9.]\n",
      "[0. 0. 0. 0. 0. 0. 0. 0. 1. 0.]\n"
     ]
    },
    {
     "data": {
      "image/png": "[encoded data removed]",
      "text/plain": [
       "<Figure size 432x288 with 1 Axes>"
      ]
     },
     "metadata": {
      "needs_background": "light"
     },
     "output_type": "display_data"
    },
    {
     "name": "stdout",
     "output_type": "stream",
     "text": [
      "[0. 1. 2. 3. 4. 5. 6. 7. 8. 9.]\n",
      "[0. 0. 0. 0. 0. 0. 0. 1. 0. 0.]\n"
     ]
    },
    {
     "data": {
      "image/png": "[encoded data removed]",
      "text/plain": [
       "<Figure size 432x288 with 1 Axes>"
      ]
     },
     "metadata": {
      "needs_background": "light"
     },
     "output_type": "display_data"
    },
    {
     "name": "stdout",
     "output_type": "stream",
     "text": [
      "[0. 1. 2. 3. 4. 5. 6. 7. 8. 9.]\n",
      "[0. 0. 0. 0. 1. 0. 0. 0. 0. 0.]\n"
     ]
    },
    {
     "data": {
      "image/png": "[encoded data removed]",
      "text/plain": [
       "<Figure size 432x288 with 1 Axes>"
      ]
     },
     "metadata": {
      "needs_background": "light"
     },
     "output_type": "display_data"
    }
   ],
   "source": [
    "#Understanding if the Predictions work well\n",
    "\n",
    "import matplotlib.pyplot as plt \n",
    "import random\n",
    "\n",
    "print('Shape of x_test:', x_test.shape,'Shape of y_test:', y_test.shape)\n",
    "# print(y_test[0])\n",
    "\n",
    "random_numbers = random.sample(range(0,10000),5)\n",
    "print('Random Numbers selected in array:', random_numbers)\n",
    "\n",
    "#Plot Predicitions vs their actual numbers\n",
    "print('Showcase to evaluate predictions:')\n",
    "for i, number in enumerate(random_numbers):\n",
    "    print('[0. 1. 2. 3. 4. 5. 6. 7. 8. 9.]')\n",
    "    print(y_test[random_numbers[i]])\n",
    "    plt.imshow(x_test[random_numbers[i]], cmap=plt.get_cmap('gray'))\n",
    "    plt.show()\n",
    "    \n",
    "    \n",
    "    \n",
    "# # plot images as gray scale\n",
    "# plt.subplot(221)\n",
    "# print(y_test[0],y_test[120],y_test[9999],y_test[5500])\n",
    "# plt.imshow(x_test[0], cmap=plt.get_cmap('gray'))\n",
    "# plt.subplot(222)\n",
    "# plt.imshow(x_test[120], cmap=plt.get_cmap('gray'))\n",
    "# plt.subplot(223)\n",
    "# plt.imshow(x_test[9999], cmap=plt.get_cmap('gray'))\n",
    "# plt.subplot(224)\n",
    "# plt.imshow(x_test[5500], cmap=plt.get_cmap('gray'))\n",
    "# # show the plot\n",
    "# plt.show()\n",
    "\n"
   ]
  }
 ],
 "metadata": {
  "interpreter": {
   "hash": "b3ba2566441a7c06988d0923437866b63cedc61552a5af99d1f4fb67d367b25f"
  },
  "kernelspec": {
   "display_name": "Python 3.8.8 64-bit (conda)",
   "language": "python",
   "name": "python3"
  },
  "language_info": {
   "codemirror_mode": {
    "name": "ipython",
    "version": 3
   },
   "file_extension": ".py",
   "mimetype": "text/x-python",
   "name": "python",
   "nbconvert_exporter": "python",
   "pygments_lexer": "ipython3",
   "version": "3.8.8"
  },
  "orig_nbformat": 4
 },
 "nbformat": 4,
 "nbformat_minor": 2
}
