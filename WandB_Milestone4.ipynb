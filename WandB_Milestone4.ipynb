{
 "cells": [
  {
   "cell_type": "code",
   "execution_count": 15,
   "metadata": {},
   "outputs": [
    {
     "name": "stderr",
     "output_type": "stream",
     "text": [
      "2021-12-06 22:46:49.209348: W tensorflow/stream_executor/platform/default/dso_loader.cc:64] Could not load dynamic library 'libcudart.so.11.0'; dlerror: libcudart.so.11.0: cannot open shared object file: No such file or directory\n",
      "2021-12-06 22:46:49.209455: I tensorflow/stream_executor/cuda/cudart_stub.cc:29] Ignore above cudart dlerror if you do not have a GPU set up on your machine.\n"
     ]
    },
    {
     "data": {
      "text/html": [
       "\n",
       "                    Syncing run <strong><a href=\"https://wandb.ai/unilu-dstoolkits/ipynb_test_runs/runs/1qjwm7p7\" target=\"_blank\">dutiful-surf-2</a></strong> to <a href=\"https://wandb.ai/unilu-dstoolkits/ipynb_test_runs\" target=\"_blank\">Weights & Biases</a> (<a href=\"https://docs.wandb.com/integrations/jupyter.html\" target=\"_blank\">docs</a>).<br/>\n",
       "\n",
       "                "
      ],
      "text/plain": [
       "<IPython.core.display.HTML object>"
      ]
     },
     "metadata": {},
     "output_type": "display_data"
    },
    {
     "name": "stdout",
     "output_type": "stream",
     "text": [
      "x_train shape: (60000, 28, 28, 1)\n",
      "60000 train samples\n",
      "10000 test samples\n",
      "Model: \"sequential_4\"\n",
      "_________________________________________________________________\n",
      " Layer (type)                Output Shape              Param #   \n",
      "=================================================================\n",
      " conv2d_8 (Conv2D)           (None, 26, 26, 32)        320       \n",
      "                                                                 \n",
      " max_pooling2d_8 (MaxPooling  (None, 13, 13, 32)       0         \n",
      " 2D)                                                             \n",
      "                                                                 \n",
      " conv2d_9 (Conv2D)           (None, 11, 11, 64)        18496     \n",
      "                                                                 \n",
      " max_pooling2d_9 (MaxPooling  (None, 5, 5, 64)         0         \n",
      " 2D)                                                             \n",
      "                                                                 \n",
      " flatten_4 (Flatten)         (None, 1600)              0         \n",
      "                                                                 \n",
      " dropout_4 (Dropout)         (None, 1600)              0         \n",
      "                                                                 \n",
      " dense_4 (Dense)             (None, 10)                16010     \n",
      "                                                                 \n",
      "=================================================================\n",
      "Total params: 34,826\n",
      "Trainable params: 34,826\n",
      "Non-trainable params: 0\n",
      "_________________________________________________________________\n",
      "Epoch 1/5\n",
      "540/540 [==============================] - 62s 111ms/step - loss: 0.3311 - accuracy: 0.8979 - val_loss: 0.0797 - val_accuracy: 0.9808\n",
      "Epoch 2/5\n",
      "540/540 [==============================] - 54s 101ms/step - loss: 0.1060 - accuracy: 0.9668 - val_loss: 0.0582 - val_accuracy: 0.9857\n",
      "Epoch 3/5\n",
      "540/540 [==============================] - 56s 104ms/step - loss: 0.0829 - accuracy: 0.9750 - val_loss: 0.0456 - val_accuracy: 0.9875\n",
      "Epoch 4/5\n",
      "540/540 [==============================] - 51s 95ms/step - loss: 0.0685 - accuracy: 0.9787 - val_loss: 0.0429 - val_accuracy: 0.9878\n",
      "Epoch 5/5\n",
      "540/540 [==============================] - 50s 93ms/step - loss: 0.0598 - accuracy: 0.9816 - val_loss: 0.0368 - val_accuracy: 0.9902\n",
      "Saving Model: <keras.engine.sequential.Sequential object at 0x7f374012baf0>\n",
      "Loading Model from volumes..\n",
      "Current directory:\n",
      "/home/tobias/Desktop/DS_ToolKits_Project\n",
      "Test loss: 0.033912867307662964\n",
      "Test accuracy: 0.9879999756813049\n"
     ]
    }
   ],
   "source": [
    "import codepy.data_preparation as data_preparation\n",
    "import codepy.build_model as build\n",
    "import codepy.model_inspection as inspection\n",
    "import codepy.predictions as predictions\n",
    "import numpy as np\n",
    "import random\n",
    "import wandb\n",
    "from wandb.keras import WandbCallback\n",
    "# import database_pg\n",
    "\n",
    "def initialize_wandb():\n",
    "    wandb.init(project=\"ipynb_test_runs\", entity=\"unilu-dstoolkits\")\n",
    "initialize_wandb()\n",
    "num_classes, input_shape, x_train, y_train, x_test, y_test = data_preparation.prepare_data()\n",
    "#Comment form here..\n",
    "model = build.build_model(num_classes, input_shape)\n",
    "def train_model(x_train, y_train, x_test, y_test, model):\n",
    "    wandb.config = {\n",
    "        \"epochs\": 15,\n",
    "        \"batch_size\": 128,\n",
    "        \"loss\": \"categorical_crossentropy\",\n",
    "        \"optimizer\": \"adam\",\n",
    "        \"metrics\" : \"accuracy\",\n",
    "        \"validation_split\" : 0.1,\n",
    "        \n",
    "    }\n",
    "\n",
    "    model.compile(loss= wandb.config['loss'], optimizer= wandb.config['optimizer'], metrics= [wandb.config['metrics']])\n",
    "\n",
    "    model.fit(x_train, y_train, batch_size= wandb.config['batch_size'],\n",
    "              epochs= wandb.config['epochs'], validation_split= wandb.config['validation_split'],\n",
    "              validation_data=(x_test, y_test),\n",
    "              callbacks=[WandbCallback()])\n",
    "\n",
    "# Call function\n",
    "train_model(x_train, y_train, x_test, y_test, model)\n",
    "inspection.save_model(model)\n",
    "#..To here for testing purposes \n",
    "loaded_model = inspection.load_model()\n",
    "inspection.evaluate_loaded_model(x_test, y_test, loaded_model)\n",
    "# predictions.predict_on_data(x_test, y_test, loaded_model)\n",
    "# database_pg.create_milestone3_db()\n",
    "# database_pg.create_input_pred_db()\n",
    "# random_img_x, squeezed_random_img_x, img_from_db = database_pg.insert_load_random_image()\n",
    "# database_pg.predict_and_persist(img_from_db, loaded_model)\n",
    "\n",
    "    "
   ]
  },
  {
   "cell_type": "code",
   "execution_count": 16,
   "metadata": {},
   "outputs": [
    {
     "name": "stdout",
     "output_type": "stream",
     "text": [
      "Predictions array: [7 2 1 ... 4 5 6] (10000, 10) <class 'numpy.ndarray'> (10000, 28, 28, 1)\n"
     ]
    }
   ],
   "source": [
    "# Predicting something with loaded_model\n",
    "prediction  = loaded_model.predict(x_test)\n",
    "# print(prediction)\n",
    "\n",
    "#convert to int array \n",
    "int_predictions = np.argmax(prediction, axis = 1)\n",
    "print('Predictions array:', int_predictions, prediction.shape, type(x_test), x_test.shape)\n"
   ]
  },
  {
   "cell_type": "code",
   "execution_count": 17,
   "metadata": {},
   "outputs": [
    {
     "name": "stdout",
     "output_type": "stream",
     "text": [
      "Random Numbers selected in array: [1819, 3741, 4288, 8926, 2260]\n",
      "Showcase to evaluate predictions:\n"
     ]
    }
   ],
   "source": [
    "\n",
    "random_numbers = random.sample(range(0,10000),5)\n",
    "print('Random Numbers selected in array:', random_numbers)\n",
    "\n",
    "print('Showcase to evaluate predictions:')\n",
    "for i, number in enumerate(random_numbers):\n",
    "    wandb.log({\"img\": [wandb.Image(x_test[random_numbers[i]], \n",
    "                                   caption=int_predictions[random_numbers[i]])]})\n",
    "    "
   ]
  },
  {
   "cell_type": "code",
   "execution_count": 18,
   "metadata": {},
   "outputs": [
    {
     "data": {
      "text/html": [
       "<br/>Waiting for W&B process to finish, PID 24095... <strong style=\"color:green\">(success).</strong>"
      ],
      "text/plain": [
       "<IPython.core.display.HTML object>"
      ]
     },
     "metadata": {},
     "output_type": "display_data"
    },
    {
     "data": {
      "application/vnd.jupyter.widget-view+json": {
       "model_id": "c8f1846d7444400abfebff354ff5d31a",
       "version_major": 2,
       "version_minor": 0
      },
      "text/plain": [
       "VBox(children=(Label(value=' 0.46MB of 0.46MB uploaded (0.00MB deduped)\\r'), FloatProgress(value=1.0, max=1.0)…"
      ]
     },
     "metadata": {},
     "output_type": "display_data"
    },
    {
     "data": {
      "text/html": [
       "<style>\n",
       "    table.wandb td:nth-child(1) { padding: 0 10px; text-align: right }\n",
       "    .wandb-row { display: flex; flex-direction: row; flex-wrap: wrap; width: 100% }\n",
       "    .wandb-col { display: flex; flex-direction: column; flex-basis: 100%; flex: 1; padding: 10px; }\n",
       "    </style>\n",
       "<div class=\"wandb-row\"><div class=\"wandb-col\">\n",
       "<h3>Run history:</h3><br/><table class=\"wandb\"><tr><td>accuracy</td><td>▁▇▇██</td></tr><tr><td>epoch</td><td>▁▃▅▆█</td></tr><tr><td>loss</td><td>█▂▂▁▁</td></tr><tr><td>val_accuracy</td><td>▁▅▆▆█</td></tr><tr><td>val_loss</td><td>█▄▂▂▁</td></tr></table><br/></div><div class=\"wandb-col\">\n",
       "<h3>Run summary:</h3><br/><table class=\"wandb\"><tr><td>accuracy</td><td>0.98156</td></tr><tr><td>best_epoch</td><td>4</td></tr><tr><td>best_val_loss</td><td>0.03682</td></tr><tr><td>epoch</td><td>4</td></tr><tr><td>loss</td><td>0.05985</td></tr><tr><td>val_accuracy</td><td>0.99017</td></tr><tr><td>val_loss</td><td>0.03682</td></tr></table>\n",
       "</div></div>\n",
       "Synced 6 W&B file(s), 6 media file(s), 0 artifact file(s) and 2 other file(s)\n",
       "<br/>Synced <strong style=\"color:#cdcd00\">dutiful-surf-2</strong>: <a href=\"https://wandb.ai/unilu-dstoolkits/ipynb_test_runs/runs/1qjwm7p7\" target=\"_blank\">https://wandb.ai/unilu-dstoolkits/ipynb_test_runs/runs/1qjwm7p7</a><br/>\n",
       "Find logs at: <code>./wandb/run-20211206_224636-1qjwm7p7/logs</code><br/>\n"
      ],
      "text/plain": [
       "<IPython.core.display.HTML object>"
      ]
     },
     "metadata": {},
     "output_type": "display_data"
    }
   ],
   "source": [
    "wandb.finish()"
   ]
  }
 ],
 "metadata": {
  "interpreter": {
   "hash": "91001342a52700311bfaf3b01c2e025c2fc002160a7f3b4d189119299144eceb"
  },
  "kernelspec": {
   "display_name": "Python 3.8.10 64-bit ('virtualenvPY': venv)",
   "language": "python",
   "name": "python3"
  },
  "language_info": {
   "codemirror_mode": {
    "name": "ipython",
    "version": 3
   },
   "file_extension": ".py",
   "mimetype": "text/x-python",
   "name": "python",
   "nbconvert_exporter": "python",
   "pygments_lexer": "ipython3",
   "version": "3.8.10"
  },
  "orig_nbformat": 4
 },
 "nbformat": 4,
 "nbformat_minor": 2
}
