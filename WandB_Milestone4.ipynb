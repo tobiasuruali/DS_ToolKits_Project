{
 "cells": [
  {
   "cell_type": "code",
   "execution_count": 5,
   "metadata": {},
   "outputs": [
    {
     "data": {
      "text/html": [
       "Finishing last run (ID:2xkd7157) before initializing another..."
      ],
      "text/plain": [
       "<IPython.core.display.HTML object>"
      ]
     },
     "metadata": {},
     "output_type": "display_data"
    },
    {
     "data": {
      "text/html": [
       "<br/>Waiting for W&B process to finish, PID 17071... <strong style=\"color:green\">(success).</strong>"
      ],
      "text/plain": [
       "<IPython.core.display.HTML object>"
      ]
     },
     "metadata": {},
     "output_type": "display_data"
    },
    {
     "data": {
      "application/vnd.jupyter.widget-view+json": {
       "model_id": "f1aa8a98047545c38b67d7afe97e54ff",
       "version_major": 2,
       "version_minor": 0
      },
      "text/plain": [
       "VBox(children=(Label(value=' 0.01MB of 0.01MB uploaded (0.00MB deduped)\\r'), FloatProgress(value=1.0, max=1.0)…"
      ]
     },
     "metadata": {},
     "output_type": "display_data"
    },
    {
     "data": {
      "text/html": [
       "<style>\n",
       "    table.wandb td:nth-child(1) { padding: 0 10px; text-align: right }\n",
       "    .wandb-row { display: flex; flex-direction: row; flex-wrap: wrap; width: 100% }\n",
       "    .wandb-col { display: flex; flex-direction: column; flex-basis: 100%; flex: 1; padding: 10px; }\n",
       "    </style>\n",
       "<div class=\"wandb-row\"><div class=\"wandb-col\">\n",
       "</div><div class=\"wandb-col\">\n",
       "</div></div>\n",
       "Synced 6 W&B file(s), 0 media file(s), 0 artifact file(s) and 1 other file(s)\n",
       "<br/>Synced <strong style=\"color:#cdcd00\">gentle-disco-9</strong>: <a href=\"https://wandb.ai/unilu-dstoolkits/ds_toolkits_project/runs/2xkd7157\" target=\"_blank\">https://wandb.ai/unilu-dstoolkits/ds_toolkits_project/runs/2xkd7157</a><br/>\n",
       "Find logs at: <code>./wandb/run-20211206_181845-2xkd7157/logs</code><br/>\n"
      ],
      "text/plain": [
       "<IPython.core.display.HTML object>"
      ]
     },
     "metadata": {},
     "output_type": "display_data"
    },
    {
     "data": {
      "text/html": [
       "Successfully finished last run (ID:2xkd7157). Initializing new run:<br/>"
      ],
      "text/plain": [
       "<IPython.core.display.HTML object>"
      ]
     },
     "metadata": {},
     "output_type": "display_data"
    },
    {
     "name": "stderr",
     "output_type": "stream",
     "text": [
      "2021-12-06 18:20:01.352251: W tensorflow/stream_executor/platform/default/dso_loader.cc:64] Could not load dynamic library 'libcudart.so.11.0'; dlerror: libcudart.so.11.0: cannot open shared object file: No such file or directory\n",
      "2021-12-06 18:20:01.352356: I tensorflow/stream_executor/cuda/cudart_stub.cc:29] Ignore above cudart dlerror if you do not have a GPU set up on your machine.\n"
     ]
    },
    {
     "data": {
      "text/html": [
       "\n",
       "                    Syncing run <strong><a href=\"https://wandb.ai/unilu-dstoolkits/ds_toolkits_project/runs/12av1ysb\" target=\"_blank\">morning-capybara-10</a></strong> to <a href=\"https://wandb.ai/unilu-dstoolkits/ds_toolkits_project\" target=\"_blank\">Weights & Biases</a> (<a href=\"https://docs.wandb.com/integrations/jupyter.html\" target=\"_blank\">docs</a>).<br/>\n",
       "\n",
       "                "
      ],
      "text/plain": [
       "<IPython.core.display.HTML object>"
      ]
     },
     "metadata": {},
     "output_type": "display_data"
    },
    {
     "name": "stdout",
     "output_type": "stream",
     "text": [
      "x_train shape: (60000, 28, 28, 1)\n",
      "60000 train samples\n",
      "10000 test samples\n",
      "Model: \"sequential_1\"\n",
      "_________________________________________________________________\n",
      " Layer (type)                Output Shape              Param #   \n",
      "=================================================================\n",
      " conv2d_2 (Conv2D)           (None, 26, 26, 32)        320       \n",
      "                                                                 \n",
      " max_pooling2d_2 (MaxPooling  (None, 13, 13, 32)       0         \n",
      " 2D)                                                             \n",
      "                                                                 \n",
      " conv2d_3 (Conv2D)           (None, 11, 11, 64)        18496     \n",
      "                                                                 \n",
      " max_pooling2d_3 (MaxPooling  (None, 5, 5, 64)         0         \n",
      " 2D)                                                             \n",
      "                                                                 \n",
      " flatten_1 (Flatten)         (None, 1600)              0         \n",
      "                                                                 \n",
      " dropout_1 (Dropout)         (None, 1600)              0         \n",
      "                                                                 \n",
      " dense_1 (Dense)             (None, 10)                16010     \n",
      "                                                                 \n",
      "=================================================================\n",
      "Total params: 34,826\n",
      "Trainable params: 34,826\n",
      "Non-trainable params: 0\n",
      "_________________________________________________________________\n"
     ]
    },
    {
     "name": "stderr",
     "output_type": "stream",
     "text": [
      "2021-12-06 18:20:08.735743: W tensorflow/core/framework/cpu_allocator_impl.cc:82] Allocation of 169344000 exceeds 10% of free system memory.\n"
     ]
    },
    {
     "name": "stdout",
     "output_type": "stream",
     "text": [
      "Epoch 1/15\n",
      "  1/422 [..............................] - ETA: 12:10 - loss: 2.3089 - accuracy: 0.0625"
     ]
    },
    {
     "name": "stderr",
     "output_type": "stream",
     "text": [
      "2021-12-06 18:20:10.997596: W tensorflow/core/framework/cpu_allocator_impl.cc:82] Allocation of 17981568 exceeds 10% of free system memory.\n",
      "2021-12-06 18:20:10.997899: W tensorflow/core/framework/cpu_allocator_impl.cc:82] Allocation of 17981568 exceeds 10% of free system memory.\n"
     ]
    },
    {
     "name": "stdout",
     "output_type": "stream",
     "text": [
      "  2/422 [..............................] - ETA: 1:07 - loss: 2.3027 - accuracy: 0.0820 "
     ]
    },
    {
     "name": "stderr",
     "output_type": "stream",
     "text": [
      "2021-12-06 18:20:11.248882: W tensorflow/core/framework/cpu_allocator_impl.cc:82] Allocation of 17981568 exceeds 10% of free system memory.\n",
      "2021-12-06 18:20:11.250016: W tensorflow/core/framework/cpu_allocator_impl.cc:82] Allocation of 17981568 exceeds 10% of free system memory.\n"
     ]
    },
    {
     "name": "stdout",
     "output_type": "stream",
     "text": [
      "422/422 [==============================] - 42s 97ms/step - loss: 0.3614 - accuracy: 0.8916 - val_loss: 0.0894 - val_accuracy: 0.9742\n",
      "Epoch 2/15\n",
      "422/422 [==============================] - 52s 123ms/step - loss: 0.1099 - accuracy: 0.9669 - val_loss: 0.0585 - val_accuracy: 0.9863\n",
      "Epoch 3/15\n",
      "422/422 [==============================] - 52s 123ms/step - loss: 0.0829 - accuracy: 0.9748 - val_loss: 0.0482 - val_accuracy: 0.9868\n",
      "Epoch 4/15\n",
      "422/422 [==============================] - 50s 119ms/step - loss: 0.0690 - accuracy: 0.9789 - val_loss: 0.0401 - val_accuracy: 0.9902\n",
      "Epoch 5/15\n",
      "422/422 [==============================] - 59s 140ms/step - loss: 0.0601 - accuracy: 0.9809 - val_loss: 0.0382 - val_accuracy: 0.9900\n",
      "Epoch 6/15\n",
      "422/422 [==============================] - 57s 135ms/step - loss: 0.0536 - accuracy: 0.9835 - val_loss: 0.0352 - val_accuracy: 0.9907\n",
      "Epoch 7/15\n",
      "422/422 [==============================] - 49s 117ms/step - loss: 0.0491 - accuracy: 0.9842 - val_loss: 0.0343 - val_accuracy: 0.9913\n",
      "Epoch 8/15\n",
      "422/422 [==============================] - 48s 115ms/step - loss: 0.0455 - accuracy: 0.9860 - val_loss: 0.0327 - val_accuracy: 0.9923\n",
      "Epoch 9/15\n",
      "422/422 [==============================] - 56s 132ms/step - loss: 0.0420 - accuracy: 0.9866 - val_loss: 0.0298 - val_accuracy: 0.9928\n",
      "Epoch 10/15\n",
      "422/422 [==============================] - 53s 125ms/step - loss: 0.0390 - accuracy: 0.9870 - val_loss: 0.0300 - val_accuracy: 0.9920\n",
      "Epoch 11/15\n",
      "422/422 [==============================] - 58s 138ms/step - loss: 0.0371 - accuracy: 0.9874 - val_loss: 0.0304 - val_accuracy: 0.9915\n",
      "Epoch 12/15\n",
      "422/422 [==============================] - 56s 134ms/step - loss: 0.0345 - accuracy: 0.9885 - val_loss: 0.0289 - val_accuracy: 0.9915\n",
      "Epoch 13/15\n",
      "422/422 [==============================] - 52s 124ms/step - loss: 0.0328 - accuracy: 0.9895 - val_loss: 0.0292 - val_accuracy: 0.9918\n",
      "Epoch 14/15\n",
      "422/422 [==============================] - 51s 122ms/step - loss: 0.0323 - accuracy: 0.9891 - val_loss: 0.0295 - val_accuracy: 0.9920\n",
      "Epoch 15/15\n",
      "422/422 [==============================] - 50s 119ms/step - loss: 0.0311 - accuracy: 0.9896 - val_loss: 0.0300 - val_accuracy: 0.9923\n",
      "Saving Model: <keras.engine.sequential.Sequential object at 0x7f37403a9d60>\n",
      "Loading Model from volumes..\n",
      "Current directory:\n",
      "/home/tobias/Desktop/DS_ToolKits_Project\n",
      "Test loss: 0.02624697797000408\n",
      "Test accuracy: 0.9909999966621399\n"
     ]
    }
   ],
   "source": [
    "import codepy.data_preparation as data_preparation\n",
    "import codepy.build_model as build\n",
    "import codepy.model_inspection as inspection\n",
    "import codepy.predictions as predictions\n",
    "import numpy as np\n",
    "import random\n",
    "import wandb\n",
    "from wandb.keras import WandbCallback\n",
    "# import database_pg\n",
    "\n",
    "data_preparation.initialize_wandb()\n",
    "num_classes, input_shape, x_train, y_train, x_test, y_test = data_preparation.prepare_data()\n",
    "#Comment form here..\n",
    "model = build.build_model(num_classes, input_shape)\n",
    "def train_model(x_train, y_train, x_test, y_test, model):\n",
    "    wandb.config = {\n",
    "        \"epochs\": 7,\n",
    "        \"batch_size\": 200,\n",
    "        \"loss\": \"categorical_crossentropy\",\n",
    "        \"optimizer\": \"adam\",\n",
    "        \"metrics\" : \"accuracy\",\n",
    "        \"validation_split\" : 0.1,\n",
    "        \n",
    "    }\n",
    "\n",
    "    model.compile(loss= wandb.config['loss'], optimizer= wandb.config['optimizer'], metrics= [wandb.config['metrics']])\n",
    "\n",
    "    model.fit(x_train, y_train, batch_size= wandb.config['batch_size'],\n",
    "              epochs= wandb.config['epochs'], validation_split= wandb.config['validation_split'],\n",
    "              validation_data=(x_test, y_test),\n",
    "              callbacks=[WandbCallback()])\n",
    "\n",
    "# Call function\n",
    "train_model(x_train, y_train, x_test, y_test, model)\n",
    "inspection.save_model(model)\n",
    "#..To here for testing purposes \n",
    "loaded_model = inspection.load_model()\n",
    "inspection.evaluate_loaded_model(x_test, y_test, loaded_model)\n",
    "# predictions.predict_on_data(x_test, y_test, loaded_model)\n",
    "# database_pg.create_milestone3_db()\n",
    "# database_pg.create_input_pred_db()\n",
    "# random_img_x, squeezed_random_img_x, img_from_db = database_pg.insert_load_random_image()\n",
    "# database_pg.predict_and_persist(img_from_db, loaded_model)\n",
    "\n",
    "    "
   ]
  },
  {
   "cell_type": "code",
   "execution_count": 6,
   "metadata": {},
   "outputs": [
    {
     "name": "stdout",
     "output_type": "stream",
     "text": [
      "Predictions array: [7 2 1 ... 4 5 6] (10000, 10) <class 'numpy.ndarray'> (10000, 28, 28, 1)\n"
     ]
    }
   ],
   "source": [
    "# Predicting something with loaded_model\n",
    "prediction  = loaded_model.predict(x_test)\n",
    "# print(prediction)\n",
    "\n",
    "#convert to int array \n",
    "int_predictions = np.argmax(prediction, axis = 1)\n",
    "print('Predictions array:', int_predictions, prediction.shape, type(x_test), x_test.shape)\n"
   ]
  },
  {
   "cell_type": "code",
   "execution_count": 7,
   "metadata": {},
   "outputs": [
    {
     "name": "stdout",
     "output_type": "stream",
     "text": [
      "Random Numbers selected in array: [9844, 4761, 5614, 1122, 7807]\n",
      "Showcase to evaluate predictions:\n"
     ]
    }
   ],
   "source": [
    "random_numbers = random.sample(range(0,10000),5)\n",
    "print('Random Numbers selected in array:', random_numbers)\n",
    "\n",
    "print('Showcase to evaluate predictions:')\n",
    "for i, number in enumerate(random_numbers):\n",
    "    wandb.log({\"img\": [wandb.Image(x_test[random_numbers[i]], \n",
    "                                   caption=int_predictions[random_numbers[i]])]})\n",
    "    "
   ]
  },
  {
   "cell_type": "code",
   "execution_count": null,
   "metadata": {},
   "outputs": [],
   "source": []
  }
 ],
 "metadata": {
  "interpreter": {
   "hash": "91001342a52700311bfaf3b01c2e025c2fc002160a7f3b4d189119299144eceb"
  },
  "kernelspec": {
   "display_name": "Python 3.8.10 64-bit ('virtualenvPY': venv)",
   "language": "python",
   "name": "python3"
  },
  "language_info": {
   "codemirror_mode": {
    "name": "ipython",
    "version": 3
   },
   "file_extension": ".py",
   "mimetype": "text/x-python",
   "name": "python",
   "nbconvert_exporter": "python",
   "pygments_lexer": "ipython3",
   "version": "3.8.10"
  },
  "orig_nbformat": 4
 },
 "nbformat": 4,
 "nbformat_minor": 2
}
