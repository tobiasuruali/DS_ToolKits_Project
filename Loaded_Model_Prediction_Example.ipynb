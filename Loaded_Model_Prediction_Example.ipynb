{
 "cells": [
  {
   "cell_type": "code",
   "execution_count": 4,
   "metadata": {},
   "outputs": [
    {
     "name": "stdout",
     "output_type": "stream",
     "text": [
      "x_train shape: (60000, 28, 28, 1)\n",
      "60000 train samples\n",
      "10000 test samples\n",
      "1875/1875 [==============================] - 35s 19ms/step - loss: 0.0464 - accuracy: 0.9858\n",
      "Random number selected in array: 1120\n",
      "(1, 28, 28, 1) (28, 28, 1)\n",
      "Predictions array: [8] (1, 10) <class 'numpy.ndarray'>\n",
      "(28, 28, 1) (28, 28, 1) (1, 28, 28, 1)\n",
      "Showcase to evaluate predictions:\n",
      "[0. 1. 2. 3. 4. 5. 6. 7. 8. 9.]\n",
      "[8]\n"
     ]
    }
   ],
   "source": [
    "## LOADING AND TESTING MODEL ON SINGLE PREDICTION\n",
    "\n",
    "import numpy as np\n",
    "from tensorflow import keras\n",
    "from tensorflow.keras import layers\n",
    "from PIL import Image as im\n",
    "import matplotlib.pyplot as plt \n",
    "import codepy.data_preparation as data_preparation\n",
    "import random\n",
    "\n",
    "num_classes, input_shape, x_train, y_train, x_test, y_test = data_preparation.prepare_data()\n",
    "\n",
    "# It can be used to reconstruct the model identically.\n",
    "loaded_model = keras.models.load_model(\"keras_model.h5\")\n",
    "\n",
    "# The reconstructed model is already compiled and has retained the optimizer\n",
    "# state, so training can resume:\n",
    "loaded_model.fit(x_train, y_train)\n",
    "\n",
    "\n",
    "\n",
    "random_single_number = random.randint(0,9999)\n",
    "random_plus_one = random_single_number + 1 \n",
    "print('Random number selected in array:', random_single_number)\n",
    "one_pic_x = x_test[random_single_number:random_plus_one]\n",
    "squeezed_one_pic_x = np.squeeze(x_test[random_single_number:random_plus_one], axis=0)\n",
    "print(one_pic_x.shape, squeezed_one_pic_x.shape)\n",
    "\n",
    "\n",
    "# def create_random_picture_array():\n",
    "#     for i in random_single_number:\n",
    "#         one_pic_x = x_test[i:(i+1)]\n",
    "#         squeezed_one_pic_x = np.squeeze(x_test[i:(i+1)], axis=0)\n",
    "#         return squeezed_one_pic_x, one_pic_x\n",
    "# squeezed_one_pic_x, one_pic_x = create_random_picture_array()\n",
    "\n",
    "# Predicting something with loaded_model\n",
    "prediction  = loaded_model.predict(one_pic_x)\n",
    "# print(prediction)\n",
    "\n",
    "#convert to int array \n",
    "int_single_prediction = np.argmax(prediction, axis = 1)\n",
    "print('Predictions array:', int_single_prediction, prediction.shape, type(squeezed_one_pic_x))\n",
    "\n",
    "\n",
    "print(squeezed_one_pic_x.shape, x_test[random_single_number].shape, one_pic_x.shape)\n",
    "\n",
    "#Plot Predicitions vs their actual numbers\n",
    "print('Showcase to evaluate predictions:')\n",
    "for i, number in enumerate(int_single_prediction):\n",
    "    print('[0. 1. 2. 3. 4. 5. 6. 7. 8. 9.]')\n",
    "    print(int_single_prediction)\n",
    "    two_d = (np.reshape(squeezed_one_pic_x, (28, 28)) * 255).astype(np.uint8)\n",
    "    # plt.imshow(squeezed_one_pic_x, cmap=plt.get_cmap('gray'))\n",
    "    plt.imsave(fname=\"test_test_photo.png\",arr= two_d, cmap=plt.get_cmap('gray'))\n",
    "    # plt.savefig(\"test_x_photo.png\")\n",
    "    # plt.show() \n"
   ]
  }
 ],
 "metadata": {
  "interpreter": {
   "hash": "b3ba2566441a7c06988d0923437866b63cedc61552a5af99d1f4fb67d367b25f"
  },
  "kernelspec": {
   "display_name": "Python 3.8.8 64-bit (conda)",
   "language": "python",
   "name": "python3"
  },
  "language_info": {
   "codemirror_mode": {
    "name": "ipython",
    "version": 3
   },
   "file_extension": ".py",
   "mimetype": "text/x-python",
   "name": "python",
   "nbconvert_exporter": "python",
   "pygments_lexer": "ipython3",
   "version": "3.8.8"
  },
  "orig_nbformat": 4
 },
 "nbformat": 4,
 "nbformat_minor": 2
}
